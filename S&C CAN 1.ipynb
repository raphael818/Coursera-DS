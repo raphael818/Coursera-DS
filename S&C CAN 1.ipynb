{
 "cells": [
  {
   "cell_type": "markdown",
   "metadata": {},
   "source": [
    "## Segmenting and Clustering Neighbourhoods in Toronto\n",
    "\n",
    "### Week 3 pt 1\n"
   ]
  },
  {
   "cell_type": "code",
   "execution_count": 1,
   "metadata": {},
   "outputs": [
    {
     "name": "stdout",
     "output_type": "stream",
     "text": [
      "Solving environment: done\n",
      "\n",
      "\n",
      "==> WARNING: A newer version of conda exists. <==\n",
      "  current version: 4.5.11\n",
      "  latest version: 4.7.12\n",
      "\n",
      "Please update conda by running\n",
      "\n",
      "    $ conda update -n base -c defaults conda\n",
      "\n",
      "\n",
      "\n",
      "## Package Plan ##\n",
      "\n",
      "  environment location: /home/jupyterlab/conda/envs/python\n",
      "\n",
      "  added / updated specs: \n",
      "    - beautifulsoup4\n",
      "\n",
      "\n",
      "The following packages will be downloaded:\n",
      "\n",
      "    package                    |            build\n",
      "    ---------------------------|-----------------\n",
      "    certifi-2019.9.11          |           py36_0         154 KB  anaconda\n",
      "\n",
      "The following packages will be UPDATED:\n",
      "\n",
      "    certifi: 2019.9.11-py36_0  conda-forge --> 2019.9.11-py36_0 anaconda\n",
      "    openssl: 1.1.1c-h516909a_0 conda-forge --> 1.1.1-h7b6447c_0 anaconda\n",
      "\n",
      "\n",
      "Downloading and Extracting Packages\n",
      "certifi-2019.9.11    | 154 KB    | ##################################### | 100% \n",
      "Preparing transaction: done\n",
      "Verifying transaction: done\n",
      "Executing transaction: done\n",
      "Solving environment: done\n",
      "\n",
      "\n",
      "==> WARNING: A newer version of conda exists. <==\n",
      "  current version: 4.5.11\n",
      "  latest version: 4.7.12\n",
      "\n",
      "Please update conda by running\n",
      "\n",
      "    $ conda update -n base -c defaults conda\n",
      "\n",
      "\n",
      "\n",
      "## Package Plan ##\n",
      "\n",
      "  environment location: /home/jupyterlab/conda/envs/python\n",
      "\n",
      "  added / updated specs: \n",
      "    - folium=0.5.0\n",
      "\n",
      "\n",
      "The following packages will be downloaded:\n",
      "\n",
      "    package                    |            build\n",
      "    ---------------------------|-----------------\n",
      "    certifi-2019.9.11          |           py36_0         147 KB  conda-forge\n",
      "\n",
      "The following packages will be UPDATED:\n",
      "\n",
      "    certifi: 2019.9.11-py36_0 anaconda --> 2019.9.11-py36_0  conda-forge\n",
      "\n",
      "The following packages will be DOWNGRADED:\n",
      "\n",
      "    openssl: 1.1.1-h7b6447c_0 anaconda --> 1.1.1c-h516909a_0 conda-forge\n",
      "\n",
      "\n",
      "Downloading and Extracting Packages\n",
      "certifi-2019.9.11    | 147 KB    | ##################################### | 100% \n",
      "Preparing transaction: done\n",
      "Verifying transaction: done\n",
      "Executing transaction: done\n",
      "Solving environment: done\n",
      "\n",
      "\n",
      "==> WARNING: A newer version of conda exists. <==\n",
      "  current version: 4.5.11\n",
      "  latest version: 4.7.12\n",
      "\n",
      "Please update conda by running\n",
      "\n",
      "    $ conda update -n base -c defaults conda\n",
      "\n",
      "\n",
      "\n",
      "## Package Plan ##\n",
      "\n",
      "  environment location: /home/jupyterlab/conda/envs/python\n",
      "\n",
      "  added / updated specs: \n",
      "    - lxml\n",
      "\n",
      "\n",
      "The following packages will be downloaded:\n",
      "\n",
      "    package                    |            build\n",
      "    ---------------------------|-----------------\n",
      "    certifi-2019.9.11          |           py36_0         154 KB  anaconda\n",
      "    lxml-4.3.0                 |   py36hefd8a0e_0         1.5 MB  anaconda\n",
      "    ------------------------------------------------------------\n",
      "                                           Total:         1.6 MB\n",
      "\n",
      "The following packages will be UPDATED:\n",
      "\n",
      "    certifi: 2019.9.11-py36_0     conda-forge --> 2019.9.11-py36_0     anaconda\n",
      "    lxml:    4.2.5-py37hefd8a0e_0             --> 4.3.0-py36hefd8a0e_0 anaconda\n",
      "    openssl: 1.1.1c-h516909a_0    conda-forge --> 1.1.1-h7b6447c_0     anaconda\n",
      "\n",
      "\n",
      "Downloading and Extracting Packages\n",
      "certifi-2019.9.11    | 154 KB    | ##################################### | 100% \n",
      "lxml-4.3.0           | 1.5 MB    | ##################################### | 100% \n",
      "Preparing transaction: done\n",
      "Verifying transaction: done\n",
      "Executing transaction: done\n"
     ]
    }
   ],
   "source": [
    "!conda install -c anaconda beautifulsoup4 --yes\n",
    "!conda install -c conda-forge folium=0.5.0 --yes\n",
    "!conda install -c anaconda lxml --yes"
   ]
  },
  {
   "cell_type": "code",
   "execution_count": 2,
   "metadata": {},
   "outputs": [],
   "source": [
    "import requests \n",
    "import lxml.html as lh\n",
    "import bs4 as bs\n",
    "import urllib.request\n",
    "import numpy as np\n",
    "import pandas as pd"
   ]
  },
  {
   "cell_type": "code",
   "execution_count": 3,
   "metadata": {},
   "outputs": [],
   "source": [
    "url   = \"https://en.wikipedia.org/wiki/List_of_postal_codes_of_Canada:_M\""
   ]
  },
  {
   "cell_type": "code",
   "execution_count": 27,
   "metadata": {},
   "outputs": [],
   "source": [
    "# using bs4\n",
    "\n",
    "def tabelabs4(cname, cols):\n",
    "    pagina = urllib.request.urlopen(url).read()\n",
    "    soup = bs.BeautifulSoup(pagina, 'lxml')\n",
    "    tabela = soup.find(\"table\", class_=cname)\n",
    "    header = [head.findAll(text=True)[0].strip() for head in tabela.find_all(\"th\")]\n",
    "    data = [[td.findAll(text=True)[0].strip() for td in tr.find_all(\"td\")]\n",
    "            for tr in tabela.find_all(\"tr\")]\n",
    "    data = [row for row in data if len(row) == cols]\n",
    "    crudf = pd.DataFrame(data, columns=header)\n",
    "    return crudf"
   ]
  },
  {
   "cell_type": "code",
   "execution_count": 29,
   "metadata": {},
   "outputs": [
    {
     "name": "stdout",
     "output_type": "stream",
     "text": [
      "(288, 3)\n"
     ]
    }
   ],
   "source": [
    "# verifying\n",
    "crutrt = tabelabs4(\"wikitable\",3)\n",
    "\n",
    "print(crutrt.shape)"
   ]
  },
  {
   "cell_type": "code",
   "execution_count": 31,
   "metadata": {},
   "outputs": [],
   "source": [
    "# clean up - ignore not assigned\n",
    "trtpost = crutrt[~crutrt['Borough'].isin(['Not assigned'])]\n",
    "trtpost = trtpost.sort_values(by=['Postcode','Borough','Neighbourhood'], ascending=[1,1,1]).reset_index(drop=True)"
   ]
  },
  {
   "cell_type": "code",
   "execution_count": 37,
   "metadata": {},
   "outputs": [],
   "source": [
    "# replacing missing neighborhoods for boroughs\n",
    "trtpost.loc[trtpost['Neighbourhood'] == 'Not assigned', ['Neighbourhood']] = trtpost['Borough']"
   ]
  },
  {
   "cell_type": "code",
   "execution_count": 40,
   "metadata": {},
   "outputs": [
    {
     "data": {
      "text/html": [
       "<div>\n",
       "<style scoped>\n",
       "    .dataframe tbody tr th:only-of-type {\n",
       "        vertical-align: middle;\n",
       "    }\n",
       "\n",
       "    .dataframe tbody tr th {\n",
       "        vertical-align: top;\n",
       "    }\n",
       "\n",
       "    .dataframe thead th {\n",
       "        text-align: right;\n",
       "    }\n",
       "</style>\n",
       "<table border=\"1\" class=\"dataframe\">\n",
       "  <thead>\n",
       "    <tr style=\"text-align: right;\">\n",
       "      <th></th>\n",
       "      <th>Postcode</th>\n",
       "      <th>Borough</th>\n",
       "      <th>Neighbourhood</th>\n",
       "    </tr>\n",
       "  </thead>\n",
       "  <tbody>\n",
       "    <tr>\n",
       "      <td>0</td>\n",
       "      <td>M1B</td>\n",
       "      <td>Scarborough</td>\n",
       "      <td>Malvern,Rouge</td>\n",
       "    </tr>\n",
       "    <tr>\n",
       "      <td>1</td>\n",
       "      <td>M1C</td>\n",
       "      <td>Scarborough</td>\n",
       "      <td>Highland Creek,Port Union,Rouge Hill</td>\n",
       "    </tr>\n",
       "    <tr>\n",
       "      <td>2</td>\n",
       "      <td>M1E</td>\n",
       "      <td>Scarborough</td>\n",
       "      <td>Guildwood,Morningside,West Hill</td>\n",
       "    </tr>\n",
       "    <tr>\n",
       "      <td>3</td>\n",
       "      <td>M1G</td>\n",
       "      <td>Scarborough</td>\n",
       "      <td>Woburn</td>\n",
       "    </tr>\n",
       "    <tr>\n",
       "      <td>4</td>\n",
       "      <td>M1H</td>\n",
       "      <td>Scarborough</td>\n",
       "      <td>Cedarbrae</td>\n",
       "    </tr>\n",
       "    <tr>\n",
       "      <td>...</td>\n",
       "      <td>...</td>\n",
       "      <td>...</td>\n",
       "      <td>...</td>\n",
       "    </tr>\n",
       "    <tr>\n",
       "      <td>98</td>\n",
       "      <td>M9N</td>\n",
       "      <td>York</td>\n",
       "      <td>Weston</td>\n",
       "    </tr>\n",
       "    <tr>\n",
       "      <td>99</td>\n",
       "      <td>M9P</td>\n",
       "      <td>Etobicoke</td>\n",
       "      <td>Westmount</td>\n",
       "    </tr>\n",
       "    <tr>\n",
       "      <td>100</td>\n",
       "      <td>M9R</td>\n",
       "      <td>Etobicoke</td>\n",
       "      <td>Kingsview Village,Martin Grove Gardens,Richvie...</td>\n",
       "    </tr>\n",
       "    <tr>\n",
       "      <td>101</td>\n",
       "      <td>M9V</td>\n",
       "      <td>Etobicoke</td>\n",
       "      <td>Albion Gardens,Beaumond Heights,Humbergate,Jam...</td>\n",
       "    </tr>\n",
       "    <tr>\n",
       "      <td>102</td>\n",
       "      <td>M9W</td>\n",
       "      <td>Etobicoke</td>\n",
       "      <td>Northwest</td>\n",
       "    </tr>\n",
       "  </tbody>\n",
       "</table>\n",
       "<p>103 rows × 3 columns</p>\n",
       "</div>"
      ],
      "text/plain": [
       "    Postcode      Borough                                      Neighbourhood\n",
       "0        M1B  Scarborough                                      Malvern,Rouge\n",
       "1        M1C  Scarborough               Highland Creek,Port Union,Rouge Hill\n",
       "2        M1E  Scarborough                    Guildwood,Morningside,West Hill\n",
       "3        M1G  Scarborough                                             Woburn\n",
       "4        M1H  Scarborough                                          Cedarbrae\n",
       "..       ...          ...                                                ...\n",
       "98       M9N         York                                             Weston\n",
       "99       M9P    Etobicoke                                          Westmount\n",
       "100      M9R    Etobicoke  Kingsview Village,Martin Grove Gardens,Richvie...\n",
       "101      M9V    Etobicoke  Albion Gardens,Beaumond Heights,Humbergate,Jam...\n",
       "102      M9W    Etobicoke                                          Northwest\n",
       "\n",
       "[103 rows x 3 columns]"
      ]
     },
     "execution_count": 40,
     "metadata": {},
     "output_type": "execute_result"
    }
   ],
   "source": [
    "# combining neighborhoods\n",
    "trtpost = trtpost.groupby(['Postcode', 'Borough'])['Neighbourhood'].apply(','.join).reset_index()\n",
    "trtpost"
   ]
  },
  {
   "cell_type": "code",
   "execution_count": 42,
   "metadata": {},
   "outputs": [
    {
     "data": {
      "text/plain": [
       "(103, 3)"
      ]
     },
     "execution_count": 42,
     "metadata": {},
     "output_type": "execute_result"
    }
   ],
   "source": [
    "trtpost.shape"
   ]
  }
 ],
 "metadata": {
  "kernelspec": {
   "display_name": "Python",
   "language": "python",
   "name": "conda-env-python-py"
  },
  "language_info": {
   "codemirror_mode": {
    "name": "ipython",
    "version": 3
   },
   "file_extension": ".py",
   "mimetype": "text/x-python",
   "name": "python",
   "nbconvert_exporter": "python",
   "pygments_lexer": "ipython3",
   "version": "3.6.7"
  }
 },
 "nbformat": 4,
 "nbformat_minor": 4
}
